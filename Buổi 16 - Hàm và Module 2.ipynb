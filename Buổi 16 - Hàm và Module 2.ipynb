{
 "cells": [
  {
   "cell_type": "markdown",
   "id": "4ccf3ca7",
   "metadata": {},
   "source": [
    "# Hàm 2"
   ]
  },
  {
   "cell_type": "markdown",
   "id": "f7b87bde",
   "metadata": {},
   "source": [
    "## Tham số mặc định của hàm"
   ]
  },
  {
   "cell_type": "markdown",
   "id": "13ddcecb",
   "metadata": {},
   "source": [
    "Cú pháp\n",
    "\n",
    "<code>def \\<tên hàm\\>(\\<tham số không có mặc định\\>,\\<tên tham số\\>=\\<giá trị mặc định\\>):\n",
    "    //Nội dung hàm<code>"
   ]
  },
  {
   "cell_type": "markdown",
   "id": "65323741",
   "metadata": {},
   "source": [
    "Ví dụ:\n",
    "\n",
    "Hãy viết 1 hàm số để tính tổng 2 tham số đầu vào với tham số thứ 2 có giá trị mặc định là 10"
   ]
  },
  {
   "cell_type": "code",
   "execution_count": null,
   "id": "5da142e2",
   "metadata": {},
   "outputs": [],
   "source": []
  },
  {
   "cell_type": "markdown",
   "id": "95367401",
   "metadata": {},
   "source": [
    "## Tham số không giới hạn"
   ]
  },
  {
   "cell_type": "markdown",
   "id": "c1342f23",
   "metadata": {},
   "source": [
    "Cú pháp\n",
    "\n",
    "<code>def \\<tên hàm\\>(*\\<tên tham số\\>):\n",
    "    //Nội dung hàm<code>"
   ]
  },
  {
   "cell_type": "markdown",
   "id": "f358754b",
   "metadata": {},
   "source": [
    "<b>Bạn hãy thử chạy đoạn code dưới đây</b>\n",
    "\n",
    "<code>def ham(*a):\n",
    "    print(\"a:\",a)\n",
    "    print(\"độ dài của a\",a)\n",
    "    print(\"phần tử đầu tiên của a:\",a[0])\n",
    "ham(2,3,5)\n",
    "</code>"
   ]
  },
  {
   "cell_type": "code",
   "execution_count": 1,
   "id": "88e7f3c9",
   "metadata": {},
   "outputs": [
    {
     "name": "stdout",
     "output_type": "stream",
     "text": [
      "a[0]: 2\n",
      "a[1]: 3\n",
      "a[2]: 5\n",
      "độ dài của a (2, 3, 5)\n",
      "phần tử đầu tiên của a: 2\n"
     ]
    }
   ],
   "source": [
    "def ham(*a):\n",
    "    for i in range(len(a)):\n",
    "        print(f\"a[{i}]: {a[i]}\")\n",
    "    print(\"độ dài của a\",a)\n",
    "    print(\"phần tử đầu tiên của a:\",a[0])\n",
    "ham(2,3,5)"
   ]
  },
  {
   "cell_type": "markdown",
   "id": "754c2f36",
   "metadata": {},
   "source": [
    "## Phạm vi biến"
   ]
  },
  {
   "cell_type": "markdown",
   "id": "e795c436",
   "metadata": {},
   "source": [
    "Biến global (toàn cục) là biến được khai báo ngoài hàm\n",
    "\n",
    "Biến local (cục bộ) là biến được khai báo trong hàm"
   ]
  },
  {
   "cell_type": "markdown",
   "id": "e148262f",
   "metadata": {},
   "source": [
    "<b>Biến global:</b>\n",
    "\n",
    "- Được phép sử dụng cả trong và ngoài hàm\n",
    "- Nếu có một biến được khai báo (thực hiện phép gán) trùng tên bên trong hàm thì đó là biến cục bộ\n",
    "- Nếu muốn gán lại giá trị cho biến global bên trong hàm thì dùng keyword global\n",
    "\n",
    "<b>Biến local:</b>\n",
    "\n",
    "- Chỉ được dùng ngoài hàm\n",
    "- Tham số đầu vào của hàm là biến local\n",
    "- Biến local sẽ biến mất khi thoát hàm"
   ]
  },
  {
   "cell_type": "code",
   "execution_count": null,
   "id": "8795dbe2",
   "metadata": {},
   "outputs": [],
   "source": []
  },
  {
   "cell_type": "markdown",
   "id": "f53ec384",
   "metadata": {},
   "source": [
    "## Hàm trả về nhiều giá trị"
   ]
  },
  {
   "cell_type": "markdown",
   "id": "91c763e4",
   "metadata": {},
   "source": [
    "Ta có thể trả về nhiều giá trị của hàm\n",
    "\n",
    "<code>def ham(a,b):\n",
    "    tong = a + b\n",
    "    hieu = a - b\n",
    "    return tong, hieu\n",
    "t, h = ham(5,3)</code>"
   ]
  },
  {
   "cell_type": "code",
   "execution_count": null,
   "id": "0a80b9d7",
   "metadata": {},
   "outputs": [],
   "source": []
  },
  {
   "cell_type": "markdown",
   "id": "95a137a7",
   "metadata": {},
   "source": [
    "## Bài tập"
   ]
  },
  {
   "cell_type": "markdown",
   "id": "42cbf825",
   "metadata": {},
   "source": [
    "Viết hàm <code>giai_pt</code> có 3 tham số đầu vào a, b, c với a có giá trị mặc định là 1\n",
    "\n",
    "Hãy giải và biện luận phương trình ax^2 + bx + c = 0\n",
    "\n",
    "Kết quả trả về của hàm là:\n",
    "\n",
    "- None nếu phương trình vô nghiệm\n",
    "- x nếu x là nghiệm kép của phương trình\n",
    "- x1, x2 nếu x1, x2 là nghiệm của phương trình"
   ]
  },
  {
   "cell_type": "code",
   "execution_count": null,
   "id": "5bdbd943",
   "metadata": {},
   "outputs": [],
   "source": []
  },
  {
   "cell_type": "markdown",
   "id": "c724893d",
   "metadata": {},
   "source": [
    "Viết hàm <code>dauphancach</code> có 3 tham số đầu vào là <code>dau</code>, <code>sochuso</code> và <code>a</code>, giá trị mặc định của <code>dau</code> là <code>\",\"</code> và giá trị mặc định của <code>sochuso</code> là 3\n",
    "\n",
    "Hãy đặt dấu phân cách cho số a được đưa vào rồi trả về kết quả\n",
    "\n",
    "Ví dụ khi ta gọi hàm\n",
    "\n",
    "<code>dauphancach(100000)</code> thì kết quả trả về là 100.000 (đặt dấu chấm mỗi 3 chữ số)"
   ]
  },
  {
   "cell_type": "code",
   "execution_count": 6,
   "id": "29bb0c4c",
   "metadata": {},
   "outputs": [
    {
     "name": "stdout",
     "output_type": "stream",
     "text": [
      "100000\n"
     ]
    }
   ],
   "source": [
    "def dauphancach(a,dau=\",\",sochuso=\"3\"):\n",
    "    str1 = str(a)\n",
    "    count = 0\n",
    "    for i in range(len(str1)-1,-1,-1):\n",
    "        count += 1\n",
    "        if count == a:\n",
    "            str1 = str1[0:len(a)-3] + dau + str1[len(a)-3,len(a)]\n",
    "            count = 0\n",
    "    return str1\n",
    "print(dauphancach(a=100000))\n",
    "\n",
    "        "
   ]
  },
  {
   "cell_type": "code",
   "execution_count": null,
   "id": "403a6026",
   "metadata": {},
   "outputs": [],
   "source": []
  },
  {
   "cell_type": "code",
   "execution_count": null,
   "id": "1fac6851",
   "metadata": {},
   "outputs": [],
   "source": []
  },
  {
   "cell_type": "code",
   "execution_count": null,
   "id": "dda5c375",
   "metadata": {},
   "outputs": [],
   "source": []
  },
  {
   "cell_type": "code",
   "execution_count": null,
   "id": "65bd80a7",
   "metadata": {},
   "outputs": [],
   "source": []
  },
  {
   "cell_type": "markdown",
   "id": "cb6e3241",
   "metadata": {},
   "source": [
    "Viết hàm <code>solonnhat</code> không giới hạn tham số đầu vào\n",
    "\n",
    "Hãy tìm và trả về số lớn nhất trong các số được đưa vào\n",
    "\n",
    "Ví dụ khi ta gọi hàm\n",
    "\n",
    "<code>solonnhat(10,5,19,20)</code> thì kết quả trả về là 20"
   ]
  },
  {
   "cell_type": "code",
   "execution_count": null,
   "id": "45c90e56",
   "metadata": {},
   "outputs": [],
   "source": []
  },
  {
   "cell_type": "markdown",
   "id": "1be2d284",
   "metadata": {},
   "source": [
    "Viết ham <code>taomatkhau</code> có 2 tham số đầu vào là <code>dodai</code> và <code>kytu</code>, giá trị mặc định của <code>dodai</code> là 10 và <code>kytu</code> là None\n",
    "\n",
    "Hãy random ra 1 mật khẩu có <code>dodai</code> ký tự và phải có <code>kytu</code> bên trong mật khấu đó (trong trường hợp <code>kytu</code> khác None)"
   ]
  },
  {
   "cell_type": "code",
   "execution_count": null,
   "id": "6412aaae",
   "metadata": {},
   "outputs": [],
   "source": []
  },
  {
   "cell_type": "markdown",
   "id": "ba601900",
   "metadata": {},
   "source": [
    "Viết hàm <code>tachdayso</code> có 1 tham số đầu vào là <code>so</code> là một số bất kỳ\n",
    "\n",
    "Từ <code>so</code> hãy tách từ bên trái sang bên phải dãy số thành các số có nghĩa khác nhau tăng dần với độ chênh lệch giữa 2 số được tách liền nhau là nhỏ nhất nhưng không được đảo thứ tự chữ số ban đầu cũng như không được bỏ chữ số nào cho đến khi không thể tách thêm\n",
    "\n",
    "In từng số trong dãy ra màn hình\n",
    "\n",
    "Hàm trả về True nếu các chữ số được tách hết và hàm trả về False nếu không được tách hết\n",
    "\n",
    "Ví dụ khi ta gọi hàm\n",
    "\n",
    "<code>tachdayso(23072007)</code>, màn hình sẽ in ra\n",
    "\n",
    "<code>2\n",
    "30\n",
    "72\n",
    "</code>\n",
    "\n",
    "và trả về kết quả False (do không thể tách hết các chữ số)"
   ]
  },
  {
   "cell_type": "code",
   "execution_count": null,
   "id": "537b770b",
   "metadata": {},
   "outputs": [],
   "source": []
  }
 ],
 "metadata": {
  "kernelspec": {
   "display_name": "Python 3 (ipykernel)",
   "language": "python",
   "name": "python3"
  },
  "language_info": {
   "codemirror_mode": {
    "name": "ipython",
    "version": 3
   },
   "file_extension": ".py",
   "mimetype": "text/x-python",
   "name": "python",
   "nbconvert_exporter": "python",
   "pygments_lexer": "ipython3",
   "version": "3.10.7"
  }
 },
 "nbformat": 4,
 "nbformat_minor": 5
}
