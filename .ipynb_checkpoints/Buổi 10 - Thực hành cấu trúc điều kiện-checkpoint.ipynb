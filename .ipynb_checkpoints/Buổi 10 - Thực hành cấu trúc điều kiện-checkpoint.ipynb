{
 "cells": [
  {
   "cell_type": "markdown",
   "id": "dcdb816e",
   "metadata": {},
   "source": [
    "# Thực hành cấu trúc điều khiển\n",
    "\n",
    "### Bài 1\n",
    "\n",
    "Cho phương trình bậc 2: ax^2 + bx + c = 0\n",
    "\n",
    "Nhập a, b, c\n",
    "\n",
    "Giải và biện luận phương trình trên"
   ]
  },
  {
   "cell_type": "code",
   "execution_count": 13,
   "id": "b5a5c325",
   "metadata": {},
   "outputs": [
    {
     "name": "stdout",
     "output_type": "stream",
     "text": [
      "Máy đoán: 50\n",
      "Đáp án (Nhập đúng, lớn, bé):3\n",
      "Máy đoán: 50\n",
      "Đáp án (Nhập đúng, lớn, bé):4\n",
      "Máy đoán: 50\n",
      "Đáp án (Nhập đúng, lớn, bé):5\n",
      "Máy đoán: 50\n",
      "Đáp án (Nhập đúng, lớn, bé):6\n",
      "Máy đoán: 50\n",
      "Đáp án (Nhập đúng, lớn, bé):3\n",
      "Máy đoán: 50\n",
      "Đáp án (Nhập đúng, lớn, bé):2\n",
      "Máy đoán: 50\n",
      "Đáp án (Nhập đúng, lớn, bé):3\n",
      "Số bạn nghĩ trong đầu là: 50\n",
      "Máy cần tổng cộng 1 lần đoán để đoán ra được\n"
     ]
    }
   ],
   "source": [
    "a = int(input(\"a: \"))\n",
    "b = int(input(\"b: \"))\n",
    "c = int(input(\"c: \"))\n",
    "\n",
    "if a == 0:\n",
    "    if b == 0:\n",
    "        if c == 0:\n",
    "            print(\"Phuong trinh vo nghiem\")\n",
    "        else: \n",
    "            print(\"Phuong trinh vo so nghiem\")\n",
    "    else:\n",
    "        print(\"Phuong trinh co 1 nghiem: \"+str(-c/b))\n",
    "else:\n",
    "    delta = (b*b-4*a*c)**0.5\n",
    "    print(delta)\n",
    "    if int(delta) > 0:\n",
    "        x1 = (-b+delta**0.5)/(2*a)\n",
    "        x2 = (-b-delta**0.5)/(2*a)\n",
    "        print(\"Phuong trinh co 2 nghiem: \"+str(x1)+\" \"+str(x2))\n",
    "    elif delta == 0:\n",
    "        print(\"Phuong trinh co nghiem kep: x1 = x2 = \"+str(-b/(2*a)))\n",
    "    else:\n",
    "        print(\"Phuong trinh vo nghiem\")"
   ]
  },
  {
   "cell_type": "markdown",
   "id": "6f7d329d",
   "metadata": {},
   "source": [
    "### Bài 2\n",
    "\n",
    "Hãy nhập vào một số\n",
    "\n",
    "Xác định coi đó có phải là số nguyên tố hay không"
   ]
  },
  {
   "cell_type": "code",
   "execution_count": 5,
   "id": "049c85f5",
   "metadata": {},
   "outputs": [
    {
     "name": "stdout",
     "output_type": "stream",
     "text": [
      "False\n"
     ]
    }
   ],
   "source": []
  },
  {
   "cell_type": "markdown",
   "id": "75f7717b",
   "metadata": {},
   "source": [
    "### Bài 3\n",
    "\n",
    "Hãy nhập vào số n\n",
    "\n",
    "Hãy đếm số chữ số 0 tận cùng của n giai thừa\n",
    "\n",
    "(Bài này nâng cao, mọi người có thể bỏ qua)"
   ]
  },
  {
   "cell_type": "code",
   "execution_count": null,
   "id": "789e0e76",
   "metadata": {},
   "outputs": [],
   "source": []
  },
  {
   "cell_type": "markdown",
   "id": "29cd6c81",
   "metadata": {},
   "source": [
    "### Bài 4\n",
    "\n",
    "In ra tất cả các số chia hết cho 3 nhỏ hơn 100"
   ]
  },
  {
   "cell_type": "code",
   "execution_count": null,
   "id": "0b848981",
   "metadata": {},
   "outputs": [],
   "source": []
  },
  {
   "cell_type": "markdown",
   "id": "04dbf99b",
   "metadata": {},
   "source": [
    "### Bài 5\n",
    "\n",
    "In ra tất cả các số lẻ nhưng không chia hết cho 3 nhỏ hơn 100"
   ]
  },
  {
   "cell_type": "code",
   "execution_count": null,
   "id": "769eb439",
   "metadata": {},
   "outputs": [],
   "source": []
  },
  {
   "cell_type": "markdown",
   "id": "26dd47fb",
   "metadata": {},
   "source": [
    "### Bài 5\n",
    "\n",
    "Tại một cửa hàng nọ có menu như sau:\n",
    "\n",
    "1. Gà rán giá 35k\n",
    "2. Hamburger giá 50k\n",
    "3. Pesi giá 10k\n",
    "\n",
    "Nhập số lượng món hàng cần mua\n",
    "\n",
    "Tính và in ra tổng giá tiền (hiển thị có dấu chấm mỗi 3 chữ số để người dùng để quan sát)\n",
    "\n",
    "Nếu giá trị đơn hàng trên 2 triệu, giảm 10% cho khách, trên 4 triệu, giảm 15%\n",
    "\n",
    "Tính và in ra tổng giá tiền được giảm (hiển thị có dấu chấm mỗi 3 chữ số để người dùng để quan sát)\n",
    "\n",
    "Tính và in ra tổng giá tiền khách cần trả (hiển thị có dấu chấm mỗi 3 chữ số để người dùng để quan sát)\n",
    "\n",
    "In ra dòng chữ \"Cảm ơn quý khách đã mua hàng\""
   ]
  },
  {
   "cell_type": "code",
   "execution_count": null,
   "id": "6634a121",
   "metadata": {
    "collapsed": true
   },
   "outputs": [],
   "source": []
  },
  {
   "cell_type": "code",
   "execution_count": 18,
   "id": "cf38e1c1",
   "metadata": {},
   "outputs": [
    {
     "name": "stdout",
     "output_type": "stream",
     "text": [
      "Please enter indent of product: 3\n",
      "Please enter indent of product: 1\n",
      "Please enter indent of product: 2\n",
      "Please enter indent of product: 3\n",
      "Please enter indent of product: 4\n",
      "Total: 105.000\n",
      "Discount: 0\n",
      "Total - Discount: 105,000\n"
     ]
    }
   ],
   "source": [
    "a = int(input(\"How many do you want to buy?: \"))\n",
    "total = 0\n",
    "\n",
    "for i in range(a):\n",
    "    b = int(input(\"Please enter indent of product: \"))\n",
    "    \n",
    "    if b == 1:\n",
    "        total += 35000\n",
    "    elif b == 2:\n",
    "        total += 50000\n",
    "    elif b == 3:\n",
    "        total += 10000\n",
    "discount = 0\n",
    "if total > 2000000:\n",
    "    discount += total*0.1\n",
    "elif total > 4000000:\n",
    "    discount += total*0.15\n",
    "\n",
    "print(f\"Total: {total:,}\".replace(',','.'))\n",
    "print(f\"Discount: {discount:,}\".replace(',','.'))\n",
    "print(f\"Total - Discount: {(total-discount):,}\".format(',','.'))"
   ]
  },
  {
   "cell_type": "markdown",
   "id": "ab10a1ce",
   "metadata": {},
   "source": [
    "### Bài 6\n",
    "\n",
    "Nhập vào chiều cao (cm) và cân nặng (kg), tính số BMI và xét rồi xin kết quả theo dữ liệu sau:\n",
    "\n",
    "- BMI < 16: Gầy cấp độ III\n",
    "- 16 <= BMI < 17:  Gầy cấp độ II\n",
    "- 17<= BMI < 18.5: Gầy cấp độ I\n",
    "- 18.5 <= BMI < 25: Bình thường\n",
    "- 25 <= BMI < 30: Thừa cân\n",
    "- 30 <= BMI < 35 : Béo phì cấp độ I\n",
    "- 35 <= BMI < 40: Béo phì cấp độ II\n",
    "- BMI > 40: Béo phì cấp độ III"
   ]
  },
  {
   "cell_type": "code",
   "execution_count": 9,
   "id": "1058f441",
   "metadata": {},
   "outputs": [
    {
     "name": "stdout",
     "output_type": "stream",
     "text": [
      "Please enter your height: 200\n",
      "Please enter your weight: 58\n",
      "Gay cap do III\n"
     ]
    }
   ],
   "source": [
    "height = float(input(\"Please enter your height: \"))\n",
    "weight = float(input(\"Please enter your weight: \"))\n",
    "\n",
    "BMI = weight/((height/100)**2)\n",
    "\n",
    "if BMI < 16:\n",
    "    print(\"Gay cap do III\")\n",
    "elif BMI < 17:\n",
    "    print(\"Gay cap do II\")\n",
    "elif BMI < 18.5:\n",
    "    print(\"Gay cap do I\")\n",
    "elif BMI < 25:\n",
    "    print(\"Binh thuong\")\n",
    "elif BMI < 30:\n",
    "    print(\"Thua can\")\n",
    "elif BMI < 35:\n",
    "    print(\"Beo phi cap do I\")\n",
    "elif BMI < 40:\n",
    "    print(\"Beo phi cap do II\")\n",
    "else:\n",
    "    print(\"Beo phi cap do III\")"
   ]
  },
  {
   "cell_type": "markdown",
   "id": "f7620342",
   "metadata": {},
   "source": [
    "### Bài 7\n",
    "\n",
    "Nhập ngày, tháng, năm. Hãy tính và in ra màn hình kể từ đầu năm đến ngày vừa nhập là bao nhiêu ngày."
   ]
  },
  {
   "cell_type": "code",
   "execution_count": 10,
   "id": "4c57f0a5",
   "metadata": {},
   "outputs": [
    {
     "name": "stdout",
     "output_type": "stream",
     "text": [
      "Please enter of day: 28\n",
      "Please enter of month: 5\n",
      "Please enter of year: 2022\n",
      "120\n"
     ]
    }
   ],
   "source": [
    "day = int(input(\"Please enter of day: \"))\n",
    "month = int(input(\"Please enter of month: \"))\n",
    "year = int(input(\"Please enter of year: \"))\n",
    "\n",
    "check = (year%400==0)or(year%100==0 and year%4!=0)\n",
    "days = 0\n",
    "\n",
    "for i in range(1,month):\n",
    "    if i == 2:\n",
    "        if check:\n",
    "            days += 29\n",
    "        else:\n",
    "            days += 28\n",
    "    elif i % 2 == 0:\n",
    "        days += 30\n",
    "    else:\n",
    "        days += 31\n",
    "print(days)"
   ]
  }
 ],
 "metadata": {
  "kernelspec": {
   "display_name": "Python 3 (ipykernel)",
   "language": "python",
   "name": "python3"
  },
  "language_info": {
   "codemirror_mode": {
    "name": "ipython",
    "version": 3
   },
   "file_extension": ".py",
   "mimetype": "text/x-python",
   "name": "python",
   "nbconvert_exporter": "python",
   "pygments_lexer": "ipython3",
   "version": "3.10.7"
  }
 },
 "nbformat": 4,
 "nbformat_minor": 5
}
