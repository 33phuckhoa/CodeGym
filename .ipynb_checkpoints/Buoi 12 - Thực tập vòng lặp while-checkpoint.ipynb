{
 "cells": [
  {
   "cell_type": "markdown",
   "id": "1f7be993",
   "metadata": {},
   "source": [
    "# Thực tập vòng lặp While\n",
    "\n",
    "### Bài 1\n",
    "\n",
    "Nhập vào số a, sử dụng lệnh while (không sử dụng break và for) để xác định xem số đó có phải là số nguyên tố hay không"
   ]
  },
  {
   "cell_type": "code",
   "execution_count": null,
   "id": "8cb73965",
   "metadata": {},
   "outputs": [],
   "source": [
    "a = int(input(\"Nhap so nguyen a:\"))\n",
    "check = True\n",
    "uoc = 2\n",
    "\n",
    "while uoc < a:\n",
    "    check = check and (a%uoc!=0)\n",
    "    uoc +=1\n",
    "\n",
    "if check == True:\n",
    "    print(a, \"la so nguyen to\")\n",
    "else:\n",
    "    print(a, \"khong la so nguyen to\")"
   ]
  },
  {
   "cell_type": "markdown",
   "id": "9f2357ca",
   "metadata": {},
   "source": [
    "### Bài 2\n",
    "\n",
    "Hãy sử dụng lệnh while lập trình cho bài đoán số ở buổi thứ 9"
   ]
  },
  {
   "cell_type": "code",
   "execution_count": null,
   "id": "db79cb9d",
   "metadata": {},
   "outputs": [],
   "source": []
  },
  {
   "cell_type": "markdown",
   "id": "58f5b789",
   "metadata": {},
   "source": [
    "### Bài 3\n",
    "\n",
    "Nhập vào số a, hãy đếm a có bao nhiêu chữ số chẵn, bao nhiêu cữ số lẻ\n",
    "\n",
    "#### Cách 1 (dùng chuỗi):"
   ]
  },
  {
   "cell_type": "code",
   "execution_count": 2,
   "id": "e7f9da21",
   "metadata": {},
   "outputs": [
    {
     "name": "stdout",
     "output_type": "stream",
     "text": [
      "Please enter value of a: 3\n",
      "1  0\n"
     ]
    }
   ],
   "source": [
    "a = int(input(\"Please enter value of a: \"))\n",
    "\n",
    "i = 0\n",
    "a = str(a)\n",
    "le = 0\n",
    "chan = 0\n",
    "while i < len(a):\n",
    "    if int(a[i])%2==0:\n",
    "        chan += 1\n",
    "    else:\n",
    "        le += 1\n",
    "    i += 1\n",
    "print(le,\"\",chan)"
   ]
  },
  {
   "cell_type": "markdown",
   "id": "9a3d9703",
   "metadata": {},
   "source": [
    "#### Cách 2 (không dùng chuỗi):"
   ]
  },
  {
   "cell_type": "code",
   "execution_count": 3,
   "id": "d4e474c8",
   "metadata": {},
   "outputs": [
    {
     "name": "stdout",
     "output_type": "stream",
     "text": [
      "Please enter value of a: 3333\n",
      "4\n",
      "0\n"
     ]
    }
   ],
   "source": [
    "a = int(input(\"Please enter value of a: \"))\n",
    "\n",
    "i = 0\n",
    "le = 0\n",
    "chan = 0\n",
    "\n",
    "while a > 0:\n",
    "    c = a%10\n",
    "    a = a//10\n",
    "    if c % 2 == 0:\n",
    "        chan += 1\n",
    "    else:\n",
    "        le += 1\n",
    "print(\"le: \"+le)\n",
    "print(\"chan: \"+chan)"
   ]
  },
  {
   "cell_type": "markdown",
   "id": "69539ece",
   "metadata": {},
   "source": [
    "### Bài 4\n",
    "\n",
    "Nhập vào số a, hãy tính tổng các chữ số nguyên tố của a"
   ]
  },
  {
   "cell_type": "code",
   "execution_count": null,
   "id": "f001bd9a",
   "metadata": {},
   "outputs": [],
   "source": [
    "a = int(input(\"Please enter value of a: \"))\n",
    "\n",
    "i = 0\n",
    "le = 0\n",
    "chan = 0\n",
    "\n",
    "while a > 0:\n",
    "    c = a%10\n",
    "    a = a//10\n",
    "    if c % 2 == 0:\n",
    "        chan += 1\n",
    "    else:\n",
    "        le += 1\n",
    "print(\"le: \"+le)\n",
    "print(\"chan: \"+chan)"
   ]
  },
  {
   "cell_type": "markdown",
   "id": "0a5075a4",
   "metadata": {},
   "source": [
    "### Bài 5\n",
    "\n",
    "Số armstrong là số có tổng của các chữ số mũ số lượng chữ số bằng chính nó\n",
    "\n",
    "Ví dụ\n",
    "\n",
    "Số 371 là một số armstrong vì:\n",
    "\n",
    "371 = 3^3 + 7^3 + 1^3 (3 là số lượng chữ số của 371)\n",
    "\n",
    "Số 1634 là một số armstrong vì:\n",
    "\n",
    "1634 = 1^4 + 6^4 + 3^4 + 4^4 (4 là số lượng chữ số của 1634)\n",
    "\n",
    "Nhập vào số a, kiểm tra xem a có phải là số armstrong không"
   ]
  },
  {
   "cell_type": "code",
   "execution_count": null,
   "id": "b9ed54a5",
   "metadata": {},
   "outputs": [],
   "source": [
    "a = int(input(\"Please enter value of a: \"))\n",
    "\n",
    "i = 0\n",
    "amstrong = 0\n",
    "\n",
    "while a > 0:\n",
    "    c = a%10\n",
    "    a = a//10\n",
    "    amstrong += \n",
    "print(\"le: \"+le)\n",
    "print(\"chan: \"+chan)"
   ]
  },
  {
   "cell_type": "markdown",
   "id": "f8a584d3",
   "metadata": {},
   "source": [
    "### Bài 6\n",
    "\n",
    "Dãy số fibonacci là dãy số được định nghĩa như sau: 1, 1, 2, 3, 5, 8, 13,... với số kế tiếp sẽ bằng tổng hai số trước đó\n",
    "\n",
    "Nhập vào A, hãy tìm số trong dãy số fibonacci lớn nhất nhưng không vượt quá A"
   ]
  },
  {
   "cell_type": "code",
   "execution_count": 1,
   "id": "3ad4d85b",
   "metadata": {},
   "outputs": [
    {
     "name": "stdout",
     "output_type": "stream",
     "text": [
      "Please enter value of a: 15\n",
      "13\n"
     ]
    }
   ],
   "source": [
    "a = int(input(\"Please enter value of a: \"))\n",
    "\n",
    "b = 0\n",
    "c = 1\n",
    "i = 0\n",
    "result = 0\n",
    "while i < a:\n",
    "    c = b+c\n",
    "    b = c-b\n",
    "    if c < a:\n",
    "        result = c\n",
    "    else:\n",
    "        result = b\n",
    "        break\n",
    "    i += 1\n",
    "print(result)"
   ]
  },
  {
   "cell_type": "code",
   "execution_count": null,
   "id": "f356b5da",
   "metadata": {},
   "outputs": [],
   "source": []
  },
  {
   "cell_type": "code",
   "execution_count": null,
   "id": "23b8b895",
   "metadata": {},
   "outputs": [],
   "source": []
  },
  {
   "cell_type": "markdown",
   "id": "9fa794f2",
   "metadata": {},
   "source": [
    "### Bài 7\n",
    "\n",
    "Nhập vào A, tìm n nhỏ nhất sao cho\n",
    "\n",
    "1 + 1/2 + 1/3 + 1/4 + ... + 1/n > A"
   ]
  },
  {
   "cell_type": "code",
   "execution_count": 20,
   "id": "246ec002",
   "metadata": {},
   "outputs": [
    {
     "name": "stdout",
     "output_type": "stream",
     "text": [
      "Please enter value of a: 3\n",
      "11\n"
     ]
    }
   ],
   "source": [
    "\n",
    "a = int(input(\"Please enter value of a: \"))\n",
    "i = 1\n",
    "result = 0\n",
    "while True:\n",
    "    result += 1/i\n",
    "    if result > a:\n",
    "        print(i)\n",
    "        break\n",
    "    i += 1\n",
    "    "
   ]
  },
  {
   "cell_type": "code",
   "execution_count": 5,
   "id": "f5aa5f4d",
   "metadata": {},
   "outputs": [
    {
     "name": "stdout",
     "output_type": "stream",
     "text": [
      "please enter value of a: 3333\n",
      "please enter value of b: 3\n",
      "1\n"
     ]
    }
   ],
   "source": [
    "a = int(input(\"please enter value of a: \"))\n",
    "b = int(input(\"please enter value of b: \"))\n",
    "str1 = str(a)\n",
    "i = 0\n",
    "while a>0 and b>0:\n",
    "    if int(str1[i])==b:\n",
    "        print(i+1)\n",
    "        break\n",
    "    i += 1\n",
    "else:\n",
    "    ## trong trường hợp vòng lặp bị ngừng bởi break thì không thực hiện else\n",
    "    ## trong trường hợp vòng lặp bị ngừng không phải break thì thực hiện else\n",
    "    print(0)"
   ]
  }
 ],
 "metadata": {
  "kernelspec": {
   "display_name": "Python 3 (ipykernel)",
   "language": "python",
   "name": "python3"
  },
  "language_info": {
   "codemirror_mode": {
    "name": "ipython",
    "version": 3
   },
   "file_extension": ".py",
   "mimetype": "text/x-python",
   "name": "python",
   "nbconvert_exporter": "python",
   "pygments_lexer": "ipython3",
   "version": "3.10.7"
  }
 },
 "nbformat": 4,
 "nbformat_minor": 5
}
