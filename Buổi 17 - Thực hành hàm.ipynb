{
 "cells": [
  {
   "cell_type": "markdown",
   "id": "29e4ba47",
   "metadata": {},
   "source": [
    "# Thực hành hàm\n",
    "\n",
    "### Bài 1\n",
    "\n",
    "Viết hàm có dữ liệu đầu vào là 2 số a và b, số nào lớn hơn thì in bảng cửu chương của số đó"
   ]
  },
  {
   "cell_type": "code",
   "execution_count": null,
   "id": "70c8b5db",
   "metadata": {},
   "outputs": [],
   "source": []
  },
  {
   "cell_type": "markdown",
   "id": "54773423",
   "metadata": {},
   "source": [
    "### Bài 2\n",
    "\n",
    "Viết hàm `xoachuoi` có dữ liệu đầu vào là 2 chuỗi a và b, hãy tìm trong chuỗi a có chuỗi b hay không, nếu có hãy xóa toán bộ chuỗi b trong a.\n",
    "\n",
    "Sau đó trả về chuỗi a mới\n",
    "\n",
    "Ví dụ:\n",
    "\n",
    "chuoi1 = \"xin chào các bạn, các bạn có khỏe không?\"\n",
    "\n",
    "chuoi2 = \"các bạn\"\n",
    "\n",
    "chuoi3 = xoachuoi(chuoi1,chuoi2)\n",
    "\n",
    "print(chuoi3)\n",
    "\n",
    "Kết quả in ra là:\n",
    "xin chào ,  có khỏe không"
   ]
  },
  {
   "cell_type": "code",
   "execution_count": 15,
   "id": "96595da9",
   "metadata": {},
   "outputs": [
    {
     "name": "stdout",
     "output_type": "stream",
     "text": [
      "xin chào , các bạn có khỏe không?\n"
     ]
    }
   ],
   "source": [
    "chuoi1 = \"xin chào các bạn, các bạn có khỏe không?\"\n",
    "\n",
    "chuoi2 = \"các bạn\"\n",
    "\n",
    "def xoachuoi(c1, c2):\n",
    "    pos = c1.find(c2)\n",
    "    c1 = c1[0:pos] + c1[pos+len(c2):]\n",
    "    return c1\n",
    "\n",
    "chuoi3 = xoachuoi(chuoi1,chuoi2)\n",
    "\n",
    "print(chuoi3)"
   ]
  },
  {
   "cell_type": "markdown",
   "id": "76016f5c",
   "metadata": {},
   "source": [
    "### Bài 3\n",
    "\n",
    "Viết hàm `kiemtramatkhau` với dữ liệu đầu vào là 1 chuỗi có công dụng như sau:\n",
    "\n",
    "Kiểm tra xem chuỗi đầu vào có phải là mật khẩu mạnh hay không, nếu có trả về True, nếu không trả về False\n",
    "\n",
    "Mật khẩu mạnh là mật khẩu phải có ít nhất 1 chữ hoa, 1 chữ thường, 1 số và 1 ký tự đặc biệt"
   ]
  },
  {
   "cell_type": "code",
   "execution_count": 17,
   "id": "00edfff4",
   "metadata": {},
   "outputs": [
    {
     "name": "stdout",
     "output_type": "stream",
     "text": [
      "True\n"
     ]
    }
   ],
   "source": [
    "matkhau = input(\"Nhap mat khau\")\n",
    "\n",
    "def kiemtramatkhau(matkhau):\n",
    "    thuong = False\n",
    "    hoa = False\n",
    "    kytu = False\n",
    "    so = False\n",
    "    for i in matkhau:\n",
    "        if i.islower():\n",
    "            thuong = True\n",
    "        elif i.isupper():\n",
    "            hoa = True\n",
    "        elif i.isnumeric():\n",
    "            so = True\n",
    "        elif i==\"#\" or i==\"$\" or i== \"@\" or i==\"*\" or i==\"%\":\n",
    "            kytu = True\n",
    "    if kytu and hoa and so and thuong:\n",
    "        return True\n",
    "    return False\n",
    "ketqua = kiemtramatkhau(matkhau)\n",
    "if ketqua:\n",
    "    print(\"Mau khau manh\")\n",
    "else:\n",
    "    print(\"Mat khau yeu\")"
   ]
  },
  {
   "cell_type": "code",
   "execution_count": null,
   "id": "54fe580d",
   "metadata": {},
   "outputs": [],
   "source": []
  },
  {
   "cell_type": "code",
   "execution_count": null,
   "id": "2d795c0a",
   "metadata": {},
   "outputs": [],
   "source": []
  },
  {
   "cell_type": "markdown",
   "id": "e7d603fd",
   "metadata": {},
   "source": [
    "### Bài 4\n",
    "\n",
    "Viết hàm có 5 dữ liệu đầu vào là 5 số nguyên, tìm giá trị lớn nhì trong 5 số đó"
   ]
  },
  {
   "cell_type": "code",
   "execution_count": 1,
   "id": "007550bd",
   "metadata": {},
   "outputs": [
    {
     "name": "stdout",
     "output_type": "stream",
     "text": [
      "9\n"
     ]
    }
   ],
   "source": [
    "def tim_so_lon_nhi(*a):\n",
    "    so_lon_nhat = a[0]\n",
    "    so_lon_nhi = 0\n",
    "    for i in a:\n",
    "        if so_lon_nhat < i:\n",
    "            so_lon_nhi = so_lon_nhat\n",
    "            so_lon_nhat = i\n",
    "    return so_lon_nhi\n",
    "\n",
    "result = tim_so_lon_nhi(9,3,2,10,4,3)\n",
    "print(result)"
   ]
  },
  {
   "cell_type": "markdown",
   "id": "190e077e",
   "metadata": {},
   "source": [
    "### Bài 5\n",
    "\n",
    "Nhập vào 2 cặp tọa độ tâm đường tròn và 2 bán kính R\n",
    "\n",
    "Hãy vẽ 2 hình tròn theo tọa độ và bán kính trên (tọa độ thứ nhất và bán kính thứ nhất là hình tròn thứ nhất, tọa độ thứ 2 với bán kính thứ 2 là hình tròn thứ hai)\n",
    "\n",
    "Viết hàm kiểm tra xem 2 hình tròn trên cắt nhau bao nhiêu điểm"
   ]
  },
  {
   "cell_type": "code",
   "execution_count": null,
   "id": "737c3742",
   "metadata": {},
   "outputs": [],
   "source": []
  },
  {
   "cell_type": "markdown",
   "id": "5b23b1aa",
   "metadata": {},
   "source": [
    "### Bài 6\n",
    "\n",
    "Nhập vào 2 tọa độ là 2 đỉnh của một hình chữ nhật\n",
    "\n",
    "Sau đó\n",
    "\n",
    "Nhập vào tọa độ tâm đường tròn và bán kính R\n",
    "\n",
    "Hãy vẽ hình hình chữ nhật và đường tròn trên\n",
    "\n",
    "Viết hàm kiểm tra xem đường tròn trên và hình chữ nhật cắt nhau tại bao nhiêu điểm"
   ]
  },
  {
   "cell_type": "code",
   "execution_count": null,
   "id": "64733a5e",
   "metadata": {},
   "outputs": [],
   "source": []
  },
  {
   "cell_type": "markdown",
   "id": "41b9b664",
   "metadata": {},
   "source": [
    "### Bài 7\n",
    "\n",
    "Viết hàm kiểm tra số nguyên tố\n",
    "\n",
    "Viết hàm kiểm tra số hoàn hảo\n",
    "\n",
    "Viết hàm kiểm tra số chính phương\n",
    "\n",
    "Viết hàm kiểm tra số Armstrong\n",
    "\n",
    "Nhập vào một chuỗi, hãy lọc và tìm ra những số ở trong chuỗi (2 chữ số liền nhau là một chuỗi)\n",
    "\n",
    "Ví dụ chuỗi: \"AB25SDc5DSjjh52\"\n",
    "\n",
    "Trong chuỗi này ta có 3 số: 25, 5 và 52\n",
    "\n",
    "Sau khi lọc số, dùng các hàm trên để kiểm tra và thực hiện như sau:\n",
    "\n",
    "Cho biến S\n",
    "\n",
    "- Nếu số đó là số nguyên tố, ta thực hiện S += số đó\n",
    "- Nếu số đó là số hoàn hảo, ta thực hiện S -= số đó\n",
    "- Nếu số đó là số chính phương, ta thực hiện S /= số đó\n",
    "- Nếu đó là số Armstrong ta cho S = 0\n",
    "\n",
    "Hãy tính và in S"
   ]
  },
  {
   "cell_type": "code",
   "execution_count": 28,
   "id": "9e1af777",
   "metadata": {},
   "outputs": [
    {
     "name": "stdout",
     "output_type": "stream",
     "text": [
      "0\n"
     ]
    }
   ],
   "source": [
    "def kiem_tra_hh_nt(bd, kt, so):\n",
    "    tong_uoc = 0\n",
    "    for i in range(bd,kt):\n",
    "        if so%i==0:\n",
    "            tong_uoc += i\n",
    "    return tong_uoc\n",
    "\n",
    "def tinh_tong(dau_vao):\n",
    "    so = \"\"\n",
    "    result = 0\n",
    "    for i in dau_vao+\" \":\n",
    "        if i.isnumeric():\n",
    "            so += i\n",
    "        elif so != \"\":     \n",
    "            if (int(so)**0.5).is_integer():\n",
    "                result /= int(so)\n",
    "            elif kiem_tra_hh_nt(2,int(so)//2,int(so)) == 0:\n",
    "                result += int(so)\n",
    "            elif kiem_tra_hh_nt(1,int(so),int(so)) == int(so):\n",
    "                result -= int(so)\n",
    "            else:\n",
    "                so_tong = 0\n",
    "                for i in so:\n",
    "                    so_tong += int(i)**len(so)\n",
    "                if so_tong == int(so):\n",
    "                    S = 0\n",
    "                    return S\n",
    "            so = \"\"\n",
    "    return result\n",
    "\n",
    "result = tinh_tong(\"AB25SDc5DSj6h3afa153\")\n",
    "print(result)"
   ]
  }
 ],
 "metadata": {
  "kernelspec": {
   "display_name": "Python 3 (ipykernel)",
   "language": "python",
   "name": "python3"
  },
  "language_info": {
   "codemirror_mode": {
    "name": "ipython",
    "version": 3
   },
   "file_extension": ".py",
   "mimetype": "text/x-python",
   "name": "python",
   "nbconvert_exporter": "python",
   "pygments_lexer": "ipython3",
   "version": "3.10.6"
  }
 },
 "nbformat": 4,
 "nbformat_minor": 5
}
